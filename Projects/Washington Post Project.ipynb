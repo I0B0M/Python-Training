{
 "cells": [
  {
   "cell_type": "code",
   "execution_count": 4,
   "metadata": {},
   "outputs": [
    {
     "name": "stderr",
     "output_type": "stream",
     "text": [
      "/Users/ibm/Library/Python/3.8/lib/python/site-packages/urllib3/__init__.py:35: NotOpenSSLWarning: urllib3 v2 only supports OpenSSL 1.1.1+, currently the 'ssl' module is compiled with 'LibreSSL 2.8.3'. See: https://github.com/urllib3/urllib3/issues/3020\n",
      "  warnings.warn(\n"
     ]
    }
   ],
   "source": [
    "import bs4\n",
    "from bs4 import BeautifulSoup\n",
    "import pandas as pd\n",
    "import requests\n"
   ]
  },
  {
   "cell_type": "code",
   "execution_count": 13,
   "metadata": {},
   "outputs": [],
   "source": [
    "subscription_url = 'https://subscribe.washingtonpost.com/'\n",
    "\n",
    "def get_subscription_url(url):\n",
    "    headers = {\n",
    "        'User-Agent': 'Mozilla/5.0 (Windows NT 10.0; Win64; x64) AppleWebKit/537.36 (KHTML, like Gecko) Chrome/58.0.3029.110 Safari/537.3'\n",
    "    }\n",
    "    \n",
    "    try:\n",
    "       response = requests.get(url, timeout=100)\n",
    "       response.raise_for_status()\n",
    "     \n",
    "       soup = BeautifulSoup(response.content,'html.parser')\n",
    "    \n",
    "    except requests.Timeout:\n",
    "        print('The Request Timed Out')\n",
    "        \n",
    "    except requests.ConnectionError:\n",
    "        print('Connection Error')\n",
    "        \n",
    "    except requests.HTTPError:\n",
    "        print('HTTP Error Occured')\n",
    "        \n",
    "    except Exception:\n",
    "        print('Exception')\n",
    "        \n",
    "    \n",
    "        \n",
    "        \n",
    "    \n",
    "    "
   ]
  },
  {
   "cell_type": "code",
   "execution_count": 14,
   "metadata": {},
   "outputs": [
    {
     "name": "stdout",
     "output_type": "stream",
     "text": [
      "Connection Error\n"
     ]
    }
   ],
   "source": [
    "get_subscription_url(subscription_url)"
   ]
  },
  {
   "cell_type": "code",
   "execution_count": 16,
   "metadata": {},
   "outputs": [],
   "source": [
    "subscription_url = 'https://subscribe.washingtonpost.com/'\n",
    "\n",
    "def get_subscription_url(url):\n",
    "    response = requests.get(url, timeout=100)\n",
    "    \n",
    "    if response.status_code == 200:\n",
    "        \n",
    "        soup = BeautifulSoup(response.content,'html.parser')\n",
    "        \n",
    "        \n",
    "        subscription_cost = soup.find('div',class_='data-qa').text.strip()\n",
    "        \n",
    "        return  subscription_cost\n",
    "    \n",
    "    else:\n",
    "        \n",
    "        print('Failed To Retrieve Data')\n",
    "        \n",
    "        return None\n",
    "    \n",
    "# Due to the blockage from robot.txt subscription data is not scraped rather collected"
   ]
  },
  {
   "cell_type": "code",
   "execution_count": 31,
   "metadata": {},
   "outputs": [
    {
     "name": "stdout",
     "output_type": "stream",
     "text": [
      "Plan A: Monthly - First Year Price: $24, Subsequent Price: $72\n",
      "Plan B: Yearly - First Year Price: $20, Subsequent Price: $60\n"
     ]
    }
   ],
   "source": [
    "subscriptions = {\n",
    "    \"Plan A\": {\n",
    "        \"Type\": \"Monthly\",\n",
    "        \"First Year Price (Yearly Equivalent)\": 24,\n",
    "        \"Subsequent Price (Yearly Equivalent)\": 72,\n",
    "        \"First Year Price\": 2 * 12,\n",
    "        \"Subsequent Price\": 6 * 12\n",
    "    },\n",
    "    \"Plan B\": {\n",
    "        \"Type\": \"Yearly\",\n",
    "        \"First Year Price\": 20,\n",
    "        \"Subsequent Price\": 60\n",
    "    }\n",
    "}\n",
    "\n",
    "for plan, details in subscriptions.items():\n",
    "    print(f\"{plan}: {details['Type']} - \"\n",
    "          f\"First Year Price: ${details['First Year Price']}, \"\n",
    "          f\"Subsequent Price: ${details['Subsequent Price']}\")"
   ]
  },
  {
   "cell_type": "code",
   "execution_count": null,
   "metadata": {},
   "outputs": [],
   "source": []
  }
 ],
 "metadata": {
  "kernelspec": {
   "display_name": "Python 3",
   "language": "python",
   "name": "python3"
  },
  "language_info": {
   "codemirror_mode": {
    "name": "ipython",
    "version": 3
   },
   "file_extension": ".py",
   "mimetype": "text/x-python",
   "name": "python",
   "nbconvert_exporter": "python",
   "pygments_lexer": "ipython3",
   "version": "3.8.9"
  }
 },
 "nbformat": 4,
 "nbformat_minor": 2
}
